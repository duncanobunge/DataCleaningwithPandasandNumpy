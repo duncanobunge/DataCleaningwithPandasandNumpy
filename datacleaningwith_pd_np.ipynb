{
 "cells": [
  {
   "cell_type": "code",
   "execution_count": 4,
   "metadata": {},
   "outputs": [
    {
     "data": {
      "text/html": [
       "<div>\n",
       "<style scoped>\n",
       "    .dataframe tbody tr th:only-of-type {\n",
       "        vertical-align: middle;\n",
       "    }\n",
       "\n",
       "    .dataframe tbody tr th {\n",
       "        vertical-align: top;\n",
       "    }\n",
       "\n",
       "    .dataframe thead th {\n",
       "        text-align: right;\n",
       "    }\n",
       "</style>\n",
       "<table border=\"1\" class=\"dataframe\">\n",
       "  <thead>\n",
       "    <tr style=\"text-align: right;\">\n",
       "      <th></th>\n",
       "      <th>property_id</th>\n",
       "      <th>room_nights</th>\n",
       "      <th>price_per_night</th>\n",
       "      <th>review_score</th>\n",
       "    </tr>\n",
       "  </thead>\n",
       "  <tbody>\n",
       "    <tr>\n",
       "      <th>count</th>\n",
       "      <td>10000.000000</td>\n",
       "      <td>10000.00000</td>\n",
       "      <td>10000.000000</td>\n",
       "      <td>6183.000000</td>\n",
       "    </tr>\n",
       "    <tr>\n",
       "      <th>mean</th>\n",
       "      <td>3080.556500</td>\n",
       "      <td>3.27820</td>\n",
       "      <td>116.402218</td>\n",
       "      <td>7.224091</td>\n",
       "    </tr>\n",
       "    <tr>\n",
       "      <th>std</th>\n",
       "      <td>1204.244695</td>\n",
       "      <td>1.89435</td>\n",
       "      <td>30.062228</td>\n",
       "      <td>1.102054</td>\n",
       "    </tr>\n",
       "    <tr>\n",
       "      <th>min</th>\n",
       "      <td>1001.000000</td>\n",
       "      <td>1.00000</td>\n",
       "      <td>39.381382</td>\n",
       "      <td>1.000000</td>\n",
       "    </tr>\n",
       "    <tr>\n",
       "      <th>25%</th>\n",
       "      <td>2023.000000</td>\n",
       "      <td>2.00000</td>\n",
       "      <td>95.749134</td>\n",
       "      <td>6.559499</td>\n",
       "    </tr>\n",
       "    <tr>\n",
       "      <th>50%</th>\n",
       "      <td>3079.500000</td>\n",
       "      <td>3.00000</td>\n",
       "      <td>109.502877</td>\n",
       "      <td>7.343703</td>\n",
       "    </tr>\n",
       "    <tr>\n",
       "      <th>75%</th>\n",
       "      <td>4125.250000</td>\n",
       "      <td>4.00000</td>\n",
       "      <td>129.149561</td>\n",
       "      <td>8.017571</td>\n",
       "    </tr>\n",
       "    <tr>\n",
       "      <th>max</th>\n",
       "      <td>5178.000000</td>\n",
       "      <td>12.00000</td>\n",
       "      <td>272.705757</td>\n",
       "      <td>10.000000</td>\n",
       "    </tr>\n",
       "  </tbody>\n",
       "</table>\n",
       "</div>"
      ],
      "text/plain": [
       "        property_id  room_nights  price_per_night  review_score\n",
       "count  10000.000000  10000.00000     10000.000000   6183.000000\n",
       "mean    3080.556500      3.27820       116.402218      7.224091\n",
       "std     1204.244695      1.89435        30.062228      1.102054\n",
       "min     1001.000000      1.00000        39.381382      1.000000\n",
       "25%     2023.000000      2.00000        95.749134      6.559499\n",
       "50%     3079.500000      3.00000       109.502877      7.343703\n",
       "75%     4125.250000      4.00000       129.149561      8.017571\n",
       "max     5178.000000     12.00000       272.705757     10.000000"
      ]
     },
     "execution_count": 4,
     "metadata": {},
     "output_type": "execute_result"
    }
   ],
   "source": [
    "#import the necessary libraries\n",
    "import pandas as pd\n",
    "import numpy as np\n",
    "\n",
    "#load the data into the workspace\n",
    "df = pd.read_csv(\"bookings.csv\")\n",
    "\n",
    "\n"
   ]
  },
  {
   "cell_type": "code",
   "execution_count": 8,
   "metadata": {},
   "outputs": [
    {
     "data": {
      "text/plain": [
       "booker_id           object\n",
       "property_id          int64\n",
       "room_nights          int64\n",
       "price_per_night    float64\n",
       "checkin_day         object\n",
       "for_business          bool\n",
       "status              object\n",
       "review_score       float64\n",
       "dtype: object"
      ]
     },
     "execution_count": 8,
     "metadata": {},
     "output_type": "execute_result"
    }
   ],
   "source": [
    "#describe the data types of the columns\n",
    "df.dtypes"
   ]
  }
 ],
 "metadata": {
  "kernelspec": {
   "display_name": "Python 3",
   "language": "python",
   "name": "python3"
  },
  "language_info": {
   "codemirror_mode": {
    "name": "ipython",
    "version": 3
   },
   "file_extension": ".py",
   "mimetype": "text/x-python",
   "name": "python",
   "nbconvert_exporter": "python",
   "pygments_lexer": "ipython3",
   "version": "3.7.0"
  }
 },
 "nbformat": 4,
 "nbformat_minor": 2
}
